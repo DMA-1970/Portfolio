{
 "cells": [
  {
   "cell_type": "code",
   "execution_count": 1,
   "id": "94e2c32d-d59a-43d4-8434-6331e382e8a6",
   "metadata": {},
   "outputs": [
    {
     "data": {
      "text/plain": [
       "0.5000000000000002"
      ]
     },
     "execution_count": 1,
     "metadata": {},
     "output_type": "execute_result"
    }
   ],
   "source": [
    "from scipy.stats import binom\n",
    "\n",
    "n = 2\n",
    "p = 0.5\n",
    "k = 1\n",
    "\n",
    "binom.pmf(k, n, p)"
   ]
  },
  {
   "cell_type": "code",
   "execution_count": 2,
   "id": "ccf91b95-3990-4d2c-8e5d-f583cc6a70b3",
   "metadata": {},
   "outputs": [
    {
     "data": {
      "text/plain": [
       "array([0.25, 0.5 , 0.25])"
      ]
     },
     "execution_count": 2,
     "metadata": {},
     "output_type": "execute_result"
    }
   ],
   "source": [
    "import numpy as np\n",
    "ks = np.arange(n+1)\n",
    "\n",
    "ps = binom.pmf(ks, n, p)\n",
    "ps"
   ]
  },
  {
   "cell_type": "code",
   "execution_count": 3,
   "id": "42bfc2a8-1b3e-4b37-8746-0b45829b5e4f",
   "metadata": {},
   "outputs": [
    {
     "data": {
      "text/html": [
       "<div>\n",
       "<style scoped>\n",
       "    .dataframe tbody tr th:only-of-type {\n",
       "        vertical-align: middle;\n",
       "    }\n",
       "\n",
       "    .dataframe tbody tr th {\n",
       "        vertical-align: top;\n",
       "    }\n",
       "\n",
       "    .dataframe thead th {\n",
       "        text-align: right;\n",
       "    }\n",
       "</style>\n",
       "<table border=\"1\" class=\"dataframe\">\n",
       "  <thead>\n",
       "    <tr style=\"text-align: right;\">\n",
       "      <th></th>\n",
       "      <th>probs</th>\n",
       "    </tr>\n",
       "  </thead>\n",
       "  <tbody>\n",
       "    <tr>\n",
       "      <th>0</th>\n",
       "      <td>0.25</td>\n",
       "    </tr>\n",
       "    <tr>\n",
       "      <th>1</th>\n",
       "      <td>0.50</td>\n",
       "    </tr>\n",
       "    <tr>\n",
       "      <th>2</th>\n",
       "      <td>0.25</td>\n",
       "    </tr>\n",
       "  </tbody>\n",
       "</table>\n",
       "</div>"
      ],
      "text/plain": [
       "0    0.25\n",
       "1    0.50\n",
       "2    0.25\n",
       "dtype: float64"
      ]
     },
     "execution_count": 3,
     "metadata": {},
     "output_type": "execute_result"
    }
   ],
   "source": [
    "from empiricaldist import Pmf\n",
    "\n",
    "pmf_k = Pmf(ps, ks)\n",
    "pmf_k"
   ]
  },
  {
   "cell_type": "code",
   "execution_count": 4,
   "id": "abaaa084-4d5e-4484-8420-8d69dd38ffae",
   "metadata": {},
   "outputs": [],
   "source": [
    "def make_binomial(n, p):\n",
    "    \"\"\"Make a binomial Pmf.\"\"\"\n",
    "    ks = np.arange(n+1)\n",
    "    ps = binom.pmf(ks, n, p)\n",
    "    return Pmf(ps, ks)"
   ]
  },
  {
   "cell_type": "code",
   "execution_count": 45,
   "id": "d384194b-68af-4157-bd19-6c037ae5ec17",
   "metadata": {},
   "outputs": [
    {
     "ename": "NameError",
     "evalue": "name 'make_binomial' is not defined",
     "output_type": "error",
     "traceback": [
      "\u001b[1;31m---------------------------------------------------------------------------\u001b[0m",
      "\u001b[1;31mNameError\u001b[0m                                 Traceback (most recent call last)",
      "Cell \u001b[1;32mIn[45], line 1\u001b[0m\n\u001b[1;32m----> 1\u001b[0m pmf_k \u001b[38;5;241m=\u001b[39m \u001b[43mmake_binomial\u001b[49m(n\u001b[38;5;241m=\u001b[39m\u001b[38;5;241m250\u001b[39m, p\u001b[38;5;241m=\u001b[39m\u001b[38;5;241m0.5\u001b[39m)\n",
      "\u001b[1;31mNameError\u001b[0m: name 'make_binomial' is not defined"
     ]
    }
   ],
   "source": [
    "pmf_k = make_binomial(n=250, p=0.5)"
   ]
  },
  {
   "cell_type": "code",
   "execution_count": 44,
   "id": "4016c849-97d9-45c9-8990-25edc72d46c1",
   "metadata": {},
   "outputs": [
    {
     "ename": "AttributeError",
     "evalue": "'rv_discrete_frozen' object has no attribute 'plot'",
     "output_type": "error",
     "traceback": [
      "\u001b[1;31m---------------------------------------------------------------------------\u001b[0m",
      "\u001b[1;31mAttributeError\u001b[0m                            Traceback (most recent call last)",
      "Cell \u001b[1;32mIn[44], line 3\u001b[0m\n\u001b[0;32m      1\u001b[0m \u001b[38;5;28;01mfrom\u001b[39;00m \u001b[38;5;21;01mutils\u001b[39;00m \u001b[38;5;28;01mimport\u001b[39;00m decorate\n\u001b[1;32m----> 3\u001b[0m \u001b[43mpmf_k\u001b[49m\u001b[38;5;241;43m.\u001b[39;49m\u001b[43mplot\u001b[49m(label\u001b[38;5;241m=\u001b[39m\u001b[38;5;124m'\u001b[39m\u001b[38;5;124mn=250, p=0.5\u001b[39m\u001b[38;5;124m'\u001b[39m)\n\u001b[0;32m      5\u001b[0m decorate(xlabel\u001b[38;5;241m=\u001b[39m\u001b[38;5;124m'\u001b[39m\u001b[38;5;124mNumber of heads (k)\u001b[39m\u001b[38;5;124m'\u001b[39m,\n\u001b[0;32m      6\u001b[0m          ylabel\u001b[38;5;241m=\u001b[39m\u001b[38;5;124m'\u001b[39m\u001b[38;5;124mPMF\u001b[39m\u001b[38;5;124m'\u001b[39m,\n\u001b[0;32m      7\u001b[0m          title\u001b[38;5;241m=\u001b[39m\u001b[38;5;124m'\u001b[39m\u001b[38;5;124mBinomial distribution\u001b[39m\u001b[38;5;124m'\u001b[39m)\n",
      "\u001b[1;31mAttributeError\u001b[0m: 'rv_discrete_frozen' object has no attribute 'plot'"
     ]
    }
   ],
   "source": [
    "from utils import decorate\n",
    "\n",
    "pmf_k.plot(label='n=250, p=0.5')\n",
    "\n",
    "decorate(xlabel='Number of heads (k)',\n",
    "         ylabel='PMF',\n",
    "         title='Binomial distribution')"
   ]
  },
  {
   "cell_type": "code",
   "execution_count": 5,
   "id": "6d281ba4-3818-4a4e-a9e9-f39650e028a5",
   "metadata": {},
   "outputs": [
    {
     "name": "stdout",
     "output_type": "stream",
     "text": [
      "Value with maximum probability (mode): 5\n"
     ]
    }
   ],
   "source": [
    "from scipy.stats import binom\n",
    "import numpy as np\n",
    "\n",
    "# Define a binomial distribution (for example) with n=10 trials and p=0.5\n",
    "pmf_k = binom(n=10, p=0.5)\n",
    "\n",
    "# Create a range of possible values (0 to 10, for this binomial distribution)\n",
    "x_values = np.arange(0, 11)\n",
    "\n",
    "# Calculate the PMF for each value of x\n",
    "pmf_values = pmf_k.pmf(x_values)\n",
    "\n",
    "# Find the value of x that maximizes the PMF (the mode)\n",
    "max_prob_value = x_values[np.argmax(pmf_values)]\n",
    "\n",
    "print(\"Value with maximum probability (mode):\", max_prob_value)\n"
   ]
  },
  {
   "cell_type": "code",
   "execution_count": 42,
   "id": "74d9752c-a389-4394-af71-693202b566ff",
   "metadata": {},
   "outputs": [
    {
     "ename": "TypeError",
     "evalue": "'rv_discrete_frozen' object is not subscriptable",
     "output_type": "error",
     "traceback": [
      "\u001b[1;31m---------------------------------------------------------------------------\u001b[0m",
      "\u001b[1;31mTypeError\u001b[0m                                 Traceback (most recent call last)",
      "Cell \u001b[1;32mIn[42], line 1\u001b[0m\n\u001b[1;32m----> 1\u001b[0m \u001b[43mpmf_k\u001b[49m\u001b[43m[\u001b[49m\u001b[38;5;241;43m125\u001b[39;49m\u001b[43m]\u001b[49m\n",
      "\u001b[1;31mTypeError\u001b[0m: 'rv_discrete_frozen' object is not subscriptable"
     ]
    }
   ],
   "source": [
    "pmf_k[125]"
   ]
  },
  {
   "cell_type": "code",
   "execution_count": 6,
   "id": "b3ab3f30-2473-4504-a01a-80f501470cd2",
   "metadata": {},
   "outputs": [],
   "source": [
    "def prob_ge(pmf, threshold):\n",
    "    \"\"\"Probability of quantities greater than threshold.\"\"\"\n",
    "    ge = (pmf.qs >= threshold)\n",
    "    total = pmf[ge].sum()\n",
    "    return total"
   ]
  },
  {
   "cell_type": "code",
   "execution_count": 4,
   "id": "43578395-c4dc-4cad-8e5b-76f367d870e7",
   "metadata": {},
   "outputs": [
    {
     "ename": "NameError",
     "evalue": "name 'prob_ge' is not defined",
     "output_type": "error",
     "traceback": [
      "\u001b[1;31m---------------------------------------------------------------------------\u001b[0m",
      "\u001b[1;31mNameError\u001b[0m                                 Traceback (most recent call last)",
      "Cell \u001b[1;32mIn[4], line 1\u001b[0m\n\u001b[1;32m----> 1\u001b[0m \u001b[43mprob_ge\u001b[49m(pmf_k, \u001b[38;5;241m140\u001b[39m)\n",
      "\u001b[1;31mNameError\u001b[0m: name 'prob_ge' is not defined"
     ]
    }
   ],
   "source": [
    "prob_ge(pmf_k, 140)"
   ]
  },
  {
   "cell_type": "code",
   "execution_count": 3,
   "id": "440a129e-1633-4f60-93b6-eaf795a83cff",
   "metadata": {},
   "outputs": [
    {
     "ename": "NameError",
     "evalue": "name 'pmf_k' is not defined",
     "output_type": "error",
     "traceback": [
      "\u001b[1;31m---------------------------------------------------------------------------\u001b[0m",
      "\u001b[1;31mNameError\u001b[0m                                 Traceback (most recent call last)",
      "Cell \u001b[1;32mIn[3], line 1\u001b[0m\n\u001b[1;32m----> 1\u001b[0m \u001b[43mpmf_k\u001b[49m\u001b[38;5;241m.\u001b[39mprob_ge(\u001b[38;5;241m140\u001b[39m)\n",
      "\u001b[1;31mNameError\u001b[0m: name 'pmf_k' is not defined"
     ]
    }
   ],
   "source": [
    "pmf_k.prob_ge(140)"
   ]
  },
  {
   "cell_type": "code",
   "execution_count": 9,
   "id": "8c2c9f7d-28ef-42ea-8df7-2df788d76c49",
   "metadata": {},
   "outputs": [],
   "source": [
    "from scipy.stats import binom\n",
    "\n",
    "# Example: a binomial distribution with parameters n (number of trials) and p (success probability)\n",
    "pmf_k = binom(n=10, p=0.5)\n",
    "\n",
    "# Then you can calculate the probability of getting a value greater than or equal to 140, for example.\n",
    "# Note: This example assumes you are working with a specific probability distribution.\n"
   ]
  },
  {
   "cell_type": "code",
   "execution_count": 2,
   "id": "b79b5fc0-59d5-4470-b1de-37fb95f4ed3c",
   "metadata": {},
   "outputs": [
    {
     "ename": "NameError",
     "evalue": "name 'pmf_k' is not defined",
     "output_type": "error",
     "traceback": [
      "\u001b[1;31m---------------------------------------------------------------------------\u001b[0m",
      "\u001b[1;31mNameError\u001b[0m                                 Traceback (most recent call last)",
      "Cell \u001b[1;32mIn[2], line 1\u001b[0m\n\u001b[1;32m----> 1\u001b[0m \u001b[43mpmf_k\u001b[49m\u001b[38;5;241m.\u001b[39mprob_le(\u001b[38;5;241m110\u001b[39m)\n",
      "\u001b[1;31mNameError\u001b[0m: name 'pmf_k' is not defined"
     ]
    }
   ],
   "source": [
    "pmf_k.prob_le(110)"
   ]
  },
  {
   "cell_type": "code",
   "execution_count": 24,
   "id": "9f529e3e-2b7b-4f5f-a1da-9ed6c4812185",
   "metadata": {},
   "outputs": [],
   "source": [
    "hypos = np.linspace(0, 1, 101)\n",
    "prior = Pmf(1, hypos)"
   ]
  },
  {
   "cell_type": "code",
   "execution_count": 12,
   "id": "0f453895-c0b7-42ed-9fb6-f9d02edcc78b",
   "metadata": {},
   "outputs": [
    {
     "name": "stdout",
     "output_type": "stream",
     "text": [
      "1.0\n"
     ]
    }
   ],
   "source": [
    "from scipy.stats import binom\n",
    "\n",
    "# Define a binomial distribution with parameters n (number of trials) and p (success probability)\n",
    "pmf_k = binom(n=10, p=0.5)\n",
    "\n",
    "# To compute the probability that a value is less than or equal to 140, use the CDF method\n",
    "prob_le_140 = pmf_k.cdf(140)\n",
    "\n",
    "# Print the result\n",
    "print(prob_le_140)\n"
   ]
  },
  {
   "cell_type": "code",
   "execution_count": 23,
   "id": "7b363c82-73c0-4880-98e3-ef12ba0bed7e",
   "metadata": {},
   "outputs": [],
   "source": [
    "hypos = np.linspace(0, 1, 101)\n",
    "prior = Pmf(1, hypos)"
   ]
  },
  {
   "cell_type": "code",
   "execution_count": 14,
   "id": "aea2dd23-0941-4e09-a187-2d746150e42f",
   "metadata": {},
   "outputs": [
    {
     "name": "stdout",
     "output_type": "stream",
     "text": [
      "1.0\n"
     ]
    }
   ],
   "source": [
    "from scipy.stats import binom\n",
    "\n",
    "# Define a binomial distribution with parameters n (number of trials) and p (success probability)\n",
    "pmf_k = binom(n=10, p=0.5)\n",
    "\n",
    "# To compute the probability that a value is less than or equal to 140, use the CDF method\n",
    "prob_le_140 = pmf_k.cdf(140)\n",
    "\n",
    "# Print the result\n",
    "print(prob_le_140)\n"
   ]
  },
  {
   "cell_type": "code",
   "execution_count": 22,
   "id": "0e5e0f80-62dc-410f-bf26-4fbc7f57ed0e",
   "metadata": {},
   "outputs": [],
   "source": [
    "hypos = np.linspace(0, 1, 101)\n",
    "prior = Pmf(1, hypos)"
   ]
  },
  {
   "cell_type": "code",
   "execution_count": 16,
   "id": "812d09af-850e-43f1-b159-4e3b545231cb",
   "metadata": {},
   "outputs": [],
   "source": [
    "import numpy as np\n"
   ]
  },
  {
   "cell_type": "code",
   "execution_count": 17,
   "id": "ec26942c-a68d-4e2d-bd29-c886147402dc",
   "metadata": {},
   "outputs": [
    {
     "name": "stdout",
     "output_type": "stream",
     "text": [
      "[1 2 3]\n"
     ]
    }
   ],
   "source": [
    "import numpy as np\n",
    "\n",
    "# Now you can use numpy functions\n",
    "array = np.array([1, 2, 3])\n",
    "print(array)\n"
   ]
  },
  {
   "cell_type": "code",
   "execution_count": 19,
   "id": "3f5f96fa-7e1f-4257-962a-184a8911dc62",
   "metadata": {},
   "outputs": [
    {
     "name": "stdout",
     "output_type": "stream",
     "text": [
      "Requirement already satisfied: empiricaldist in c:\\programdata\\python\\env_1\\lib\\site-packages (0.7.5)\n",
      "Note: you may need to restart the kernel to use updated packages.\n"
     ]
    }
   ],
   "source": [
    "pip install empiricaldist\n"
   ]
  },
  {
   "cell_type": "code",
   "execution_count": 20,
   "id": "bd022dfc-bcc8-4209-a99a-c963f9483dcd",
   "metadata": {},
   "outputs": [],
   "source": [
    "from empiricaldist import Pmf\n"
   ]
  },
  {
   "cell_type": "code",
   "execution_count": 21,
   "id": "95b9b3d6-e52b-40c9-a466-b179e51529e2",
   "metadata": {},
   "outputs": [
    {
     "name": "stdout",
     "output_type": "stream",
     "text": [
      "0.00    1\n",
      "0.01    1\n",
      "0.02    1\n",
      "0.03    1\n",
      "0.04    1\n",
      "       ..\n",
      "0.96    1\n",
      "0.97    1\n",
      "0.98    1\n",
      "0.99    1\n",
      "1.00    1\n",
      "Length: 101, dtype: int64\n"
     ]
    }
   ],
   "source": [
    "import numpy as np\n",
    "from empiricaldist import Pmf\n",
    "\n",
    "# Create a list of hypotheses\n",
    "hypos = np.linspace(0, 1, 101)\n",
    "\n",
    "# Assign equal prior probability to each hypothesis\n",
    "prior = Pmf(1, hypos)\n",
    "\n",
    "print(prior)\n"
   ]
  },
  {
   "cell_type": "code",
   "execution_count": 33,
   "id": "984ed937-ef50-4854-8cde-ba5e14fcdae4",
   "metadata": {},
   "outputs": [
    {
     "name": "stdout",
     "output_type": "stream",
     "text": [
      "Value with maximum probability (mode): 5\n"
     ]
    }
   ],
   "source": [
    "from scipy.stats import binom\n",
    "import numpy as np\n",
    "\n",
    "# Example: A binomial distribution with n=10 trials and p=0.5 probability of success\n",
    "pmf_k = binom(n=10, p=0.5)\n",
    "\n",
    "# Create a range of possible values (in this case 0 to 10)\n",
    "x_values = np.arange(0, 11)\n",
    "\n",
    "# Calculate the PMF for each value of x\n",
    "pmf_values = pmf_k.pmf(x_values)\n",
    "\n",
    "# Find the value of x that maximizes the PMF\n",
    "max_prob_value = x_values[np.argmax(pmf_values)]\n",
    "\n",
    "print(\"Value with maximum probability (mode):\", max_prob_value)\n"
   ]
  },
  {
   "cell_type": "code",
   "execution_count": 37,
   "id": "b66a720c-41eb-4be1-bf13-8d2009fc7133",
   "metadata": {},
   "outputs": [
    {
     "name": "stdout",
     "output_type": "stream",
     "text": [
      "Probability of X >= 140: 8.814641274693599e-31\n"
     ]
    }
   ],
   "source": [
    "from scipy.stats import binom\n",
    "\n",
    "# Example: A binomial distribution with n=150 and p=0.5\n",
    "pmf_k = binom(n=150, p=0.5)\n",
    "\n",
    "# To find the probability of getting a value >= 140\n",
    "threshold = 140\n",
    "prob_ge_140 = pmf_k.sf(threshold - 1)  # P(X >= 140) is equivalent to P(X > 139)\n",
    "\n",
    "print(\"Probability of X >= 140:\", prob_ge_140)\n"
   ]
  },
  {
   "cell_type": "code",
   "execution_count": 46,
   "id": "3ff73c65-e35c-4ab2-8454-eafb3f92429d",
   "metadata": {},
   "outputs": [
    {
     "name": "stdout",
     "output_type": "stream",
     "text": [
      "Probability of X <= 110: 0.999999998307681\n"
     ]
    }
   ],
   "source": [
    "from scipy.stats import binom\n",
    "\n",
    "# Example: A binomial distribution with n=150 trials and p=0.5 probability of success\n",
    "pmf_k = binom(n=150, p=0.5)\n",
    "\n",
    "# To find the probability that X is less than or equal to 110\n",
    "prob_le_110 = pmf_k.cdf(110)\n",
    "\n",
    "print(\"Probability of X <= 110:\", prob_le_110)\n"
   ]
  },
  {
   "cell_type": "code",
   "execution_count": 48,
   "id": "8de731c5-2f40-4c88-ac4b-c22825dd14ca",
   "metadata": {},
   "outputs": [
    {
     "name": "stdout",
     "output_type": "stream",
     "text": [
      "Probability of X <= 110: 0.999999998307681\n"
     ]
    }
   ],
   "source": [
    "from scipy.stats import binom\n",
    "\n",
    "# Example: A binomial distribution with n=150 trials and p=0.5 probability of success\n",
    "pmf_k = binom(n=150, p=0.5)\n",
    "\n",
    "# To find the probability that X is less than or equal to 110\n",
    "prob_le_110 = pmf_k.cdf(110)\n",
    "\n",
    "print(\"Probability of X <= 110:\", prob_le_110)\n"
   ]
  },
  {
   "cell_type": "code",
   "execution_count": 49,
   "id": "3a73035d-3448-4e88-a53a-779ccdc3844b",
   "metadata": {},
   "outputs": [],
   "source": [
    "hypos = np.linspace(0, 1, 101)\n",
    "prior = Pmf(1, hypos)"
   ]
  },
  {
   "cell_type": "code",
   "execution_count": 50,
   "id": "cbcf981f-286b-4770-8861-ab082a128825",
   "metadata": {},
   "outputs": [],
   "source": [
    "likelihood_heads = hypos\n",
    "likelihood_tails = 1 - hypos"
   ]
  },
  {
   "cell_type": "code",
   "execution_count": 51,
   "id": "64d095f7-de22-45e6-9b60-051b535a4d48",
   "metadata": {},
   "outputs": [],
   "source": [
    "likelihood = {\n",
    "    'H': likelihood_heads,\n",
    "    'T': likelihood_tails\n",
    "}"
   ]
  },
  {
   "cell_type": "code",
   "execution_count": 52,
   "id": "ed4e0989-f05f-4262-af05-b0e6b769e798",
   "metadata": {},
   "outputs": [],
   "source": [
    "dataset = 'H' * 140 + 'T' * 110"
   ]
  },
  {
   "cell_type": "code",
   "execution_count": 53,
   "id": "de174d5d-8cef-4fcb-b841-de83cc295c4b",
   "metadata": {},
   "outputs": [],
   "source": [
    "def update_euro(pmf, dataset):\n",
    "    \"\"\"Update pmf with a given sequence of H and T.\"\"\"\n",
    "    for data in dataset:\n",
    "        pmf *= likelihood[data]\n",
    "\n",
    "    pmf.normalize()"
   ]
  },
  {
   "cell_type": "code",
   "execution_count": 54,
   "id": "23f88ad6-21e8-4611-8d47-c96320239ae7",
   "metadata": {},
   "outputs": [],
   "source": [
    "posterior = prior.copy()\n",
    "update_euro(posterior, dataset)"
   ]
  },
  {
   "cell_type": "code",
   "execution_count": 55,
   "id": "cbe0b180-19f5-4568-861a-bae21ba9e65f",
   "metadata": {},
   "outputs": [],
   "source": [
    "def decorate_euro(title):\n",
    "    decorate(xlabel='Proportion of heads (x)',\n",
    "             ylabel='Probability',\n",
    "             title=title)"
   ]
  },
  {
   "cell_type": "code",
   "execution_count": null,
   "id": "efc12ea0-3bf0-4fe6-a376-8b47bd0fe5ff",
   "metadata": {},
   "outputs": [],
   "source": [
    "posterior.plot(label='140 heads out of 250', color='C4')\n",
    "decorate_euro(title='Posterior distribution of x')"
   ]
  },
  {
   "cell_type": "code",
   "execution_count": null,
   "id": "bd51c7fd-4b78-4088-a48e-f81350105601",
   "metadata": {},
   "outputs": [],
   "source": [
    "posterior.max_prob()"
   ]
  },
  {
   "cell_type": "code",
   "execution_count": 1,
   "id": "d6dd0056-f370-43d4-8ab9-66ba90afa698",
   "metadata": {},
   "outputs": [
    {
     "data": {
      "text/plain": [
       "0.56"
      ]
     },
     "execution_count": 1,
     "metadata": {},
     "output_type": "execute_result"
    }
   ],
   "source": [
    "0.56"
   ]
  },
  {
   "cell_type": "code",
   "execution_count": null,
   "id": "2ce7e504-ad1c-48bb-9bd8-ec9391d5e62e",
   "metadata": {},
   "outputs": [],
   "source": [
    "ramp_up = np.arange(50)\n",
    "ramp_down = np.arange(50, -1, -1)\n",
    "\n",
    "a = np.append(ramp_up, ramp_down)\n",
    "\n",
    "triangle = Pmf(a, hypos, name='triangle')\n",
    "triangle.normalize()"
   ]
  },
  {
   "cell_type": "code",
   "execution_count": 3,
   "id": "4154e1b4-5bf8-412b-8b77-64c7d6306375",
   "metadata": {},
   "outputs": [],
   "source": [
    "import numpy as np\n"
   ]
  },
  {
   "cell_type": "code",
   "execution_count": 4,
   "id": "64ae46d9-41a2-4a3b-8c12-8014bd854979",
   "metadata": {},
   "outputs": [
    {
     "name": "stdout",
     "output_type": "stream",
     "text": [
      "[ 0  1  2  3  4  5  6  7  8  9 10 11 12 13 14 15 16 17 18 19 20 21 22 23\n",
      " 24 25 26 27 28 29 30 31 32 33 34 35 36 37 38 39 40 41 42 43 44 45 46 47\n",
      " 48 49 50 49 48 47 46 45 44 43 42 41 40 39 38 37 36 35 34 33 32 31 30 29\n",
      " 28 27 26 25 24 23 22 21 20 19 18 17 16 15 14 13 12 11 10  9  8  7  6  5\n",
      "  4  3  2  1  0]\n"
     ]
    }
   ],
   "source": [
    "import numpy as np\n",
    "\n",
    "# Creating ramp_up array\n",
    "ramp_up = np.arange(50)\n",
    "\n",
    "# Creating ramp_down array\n",
    "ramp_down = np.arange(50, -1, -1)\n",
    "\n",
    "# Append the two arrays\n",
    "a = np.append(ramp_up, ramp_down)\n",
    "\n",
    "print(a)\n"
   ]
  },
  {
   "cell_type": "code",
   "execution_count": 6,
   "id": "6192d4ce-ed06-4f6f-af6f-af64e0f79126",
   "metadata": {},
   "outputs": [
    {
     "name": "stdout",
     "output_type": "stream",
     "text": [
      "Requirement already satisfied: empiricaldist in c:\\programdata\\python\\env_1\\lib\\site-packages (0.7.5)Note: you may need to restart the kernel to use updated packages.\n",
      "\n"
     ]
    }
   ],
   "source": [
    "pip install empiricaldist\n"
   ]
  },
  {
   "cell_type": "code",
   "execution_count": 7,
   "id": "29e2023d-644e-427f-9a24-492519b58702",
   "metadata": {},
   "outputs": [],
   "source": [
    "from empiricaldist import Pmf\n"
   ]
  },
  {
   "cell_type": "code",
   "execution_count": 8,
   "id": "70517dbd-0ed6-4732-a930-7f4a54677f5d",
   "metadata": {},
   "outputs": [
    {
     "name": "stdout",
     "output_type": "stream",
     "text": [
      "0.00    0.0000\n",
      "0.01    0.0004\n",
      "0.02    0.0008\n",
      "0.03    0.0012\n",
      "0.04    0.0016\n",
      "         ...  \n",
      "0.96    0.0016\n",
      "0.97    0.0012\n",
      "0.98    0.0008\n",
      "0.99    0.0004\n",
      "1.00    0.0000\n",
      "Name: triangle, Length: 101, dtype: float64\n"
     ]
    }
   ],
   "source": [
    "import numpy as np\n",
    "from empiricaldist import Pmf\n",
    "\n",
    "# Create ramp_up and ramp_down arrays\n",
    "ramp_up = np.arange(50)\n",
    "ramp_down = np.arange(50, -1, -1)\n",
    "\n",
    "# Combine them into a single array\n",
    "a = np.append(ramp_up, ramp_down)\n",
    "\n",
    "# Create an array of hypotheses (assuming you're working with 101 evenly spaced hypotheses)\n",
    "hypos = np.linspace(0, 1, len(a))\n",
    "\n",
    "# Create a Pmf (Probability Mass Function)\n",
    "triangle = Pmf(a, hypos, name='triangle')\n",
    "\n",
    "# Normalize the Pmf\n",
    "triangle.normalize()\n",
    "\n",
    "print(triangle)\n"
   ]
  },
  {
   "cell_type": "code",
   "execution_count": 9,
   "id": "1beeec9e-b50c-4282-8f31-fc25669e5078",
   "metadata": {},
   "outputs": [],
   "source": [
    "from scipy.stats import binom\n",
    "\n",
    "def update_binomial(pmf, data):\n",
    "    \"\"\"Update pmf using the binomial distribution.\"\"\"\n",
    "    k, n = data\n",
    "    xs = pmf.qs\n",
    "    likelihood = binom.pmf(k, n, xs)\n",
    "    pmf *= likelihood\n",
    "    pmf.normalize()"
   ]
  },
  {
   "cell_type": "code",
   "execution_count": 10,
   "id": "2b71c3f4-a5e5-4af9-88f4-ad68d8bc9c48",
   "metadata": {},
   "outputs": [],
   "source": [
    "uniform2 = Pmf(1, hypos, name='uniform2')\n",
    "data = 140, 250\n",
    "update_binomial(uniform2, data)"
   ]
  },
  {
   "cell_type": "code",
   "execution_count": 13,
   "id": "673fda05-159c-43a9-b96e-62dcfe63e8ba",
   "metadata": {},
   "outputs": [
    {
     "data": {
      "text/plain": [
       "False"
      ]
     },
     "execution_count": 13,
     "metadata": {},
     "output_type": "execute_result"
    }
   ],
   "source": [
    "np.allclose(uniform, uniform2)"
   ]
  },
  {
   "cell_type": "code",
   "execution_count": 12,
   "id": "10761479-437c-4db1-863f-004f8ff6b359",
   "metadata": {},
   "outputs": [
    {
     "name": "stdout",
     "output_type": "stream",
     "text": [
      "Are the two arrays close? False\n"
     ]
    }
   ],
   "source": [
    "import numpy as np\n",
    "\n",
    "# Generate two uniform distributions for comparison\n",
    "uniform = np.random.uniform(0, 1, 100)\n",
    "uniform2 = np.random.uniform(0, 1, 100)\n",
    "\n",
    "# Use np.allclose() to compare the two arrays\n",
    "are_close = np.allclose(uniform, uniform2)\n",
    "\n",
    "print(\"Are the two arrays close?\", are_close)\n"
   ]
  },
  {
   "cell_type": "code",
   "execution_count": 14,
   "id": "934db1b8-587b-4dc7-88c9-4866d325c5dd",
   "metadata": {},
   "outputs": [],
   "source": [
    "hypos = np.linspace(0.1, 0.4, 101)\n",
    "prior = Pmf(1, hypos)"
   ]
  },
  {
   "cell_type": "code",
   "execution_count": 15,
   "id": "aafaff2a-477e-475b-b76c-8923f138d520",
   "metadata": {},
   "outputs": [],
   "source": [
    "likelihood = {\n",
    "    'Y': hypos,\n",
    "    'N': 1-hypos\n",
    "}"
   ]
  },
  {
   "cell_type": "code",
   "execution_count": 16,
   "id": "227a06fc-7816-4565-bd23-164851dc50af",
   "metadata": {},
   "outputs": [],
   "source": [
    "dataset = 'Y' * 25 + 'N' * 75"
   ]
  },
  {
   "cell_type": "code",
   "execution_count": 17,
   "id": "b7315fbf-fdc0-4771-88ec-655ca46fb650",
   "metadata": {},
   "outputs": [
    {
     "data": {
      "text/plain": [
       "1.3596964206970507e-23"
      ]
     },
     "execution_count": 17,
     "metadata": {},
     "output_type": "execute_result"
    }
   ],
   "source": [
    "for data in dataset:\n",
    "    prior *= likelihood[data]\n",
    "\n",
    "prior.normalize()"
   ]
  },
  {
   "cell_type": "code",
   "execution_count": null,
   "id": "915077e1-2e68-4c9d-b3e3-a063ba3b0377",
   "metadata": {},
   "outputs": [],
   "source": [
    "prior.plot(label='prior')\n",
    "decorate(xlabel='Probability of getting a hit',\n",
    "         ylabel='PMF')"
   ]
  },
  {
   "cell_type": "code",
   "execution_count": null,
   "id": "4a7b37d0-53b7-48bf-907a-cc26b649dadd",
   "metadata": {},
   "outputs": [],
   "source": [
    "# Solution\n",
    "\n",
    "posterior = prior.copy()\n",
    "\n",
    "for data in 'YYY':\n",
    "    posterior *= likelihood[data]\n",
    "\n",
    "posterior.normalize()"
   ]
  },
  {
   "cell_type": "code",
   "execution_count": null,
   "id": "d99f6cb4-cfca-45ff-9e53-37430fe25ee0",
   "metadata": {},
   "outputs": [],
   "source": [
    "import numpy as np\n",
    "import matplotlib.pyplot as plt\n",
    "from empiricaldist import Pmf\n",
    "\n",
    "# Define hypotheses (e.g., probabilities of getting a hit)\n",
    "hypos = np.linspace(0, 1, 101)\n",
    "\n",
    "# Create a uniform prior distribution\n",
    "prior = Pmf(1, hypos)\n",
    "prior.normalize()\n",
    "\n",
    "# Create a posterior distribution (using arbitrary likelihoods for demonstration)\n",
    "likelihoods = hypos ** 2  # Example likelihood for demonstration\n",
    "posterior = prior * likelihoods\n",
    "posterior.normalize()\n",
    "\n",
    "# Plot the prior and posterior distributions\n",
    "prior.plot(label='prior')  \n",
    "posterior.plot(label='posterior')\n",
    "\n",
    "# Decorate the plot with labels and legends\n",
    "plt.xlabel('Probability of getting a hit')\n",
    "plt.ylabel('PMF')\n",
    "plt.legend()\n",
    "plt.show()\n"
   ]
  },
  {
   "cell_type": "code",
   "execution_count": null,
   "id": "5f79ce16-d823-4a00-8ff7-79a1dbc048b3",
   "metadata": {},
   "outputs": [],
   "source": [
    "import numpy as np\n",
    "import matplotlib.pyplot as plt\n",
    "from empiricaldist import Pmf\n",
    "\n",
    "# Define hypotheses (e.g., probabilities of getting a hit)\n",
    "hypos = np.linspace(0, 1, 101)\n",
    "\n",
    "# Create prior distribution (e.g., a uniform prior)\n",
    "prior = Pmf(1, hypos)\n",
    "prior.normalize()\n",
    "\n",
    "# Create a posterior distribution (using arbitrary likelihoods for demonstration)\n",
    "likelihoods = hypos ** 2  # Example likelihood\n",
    "posterior = prior * likelihoods\n",
    "posterior.normalize()\n",
    "\n",
    "# Plot the prior and posterior distributions\n",
    "prior.plot(label='prior')  # Added the missing closing parenthesis here\n",
    "posterior.plot(label='posterior')\n",
    "\n",
    "# Decorate the plot with labels and legends\n",
    "plt.xlabel('Probability of getting a hit')\n",
    "plt.ylabel('PMF')\n",
    "plt.legend()\n",
    "plt.show()\n"
   ]
  },
  {
   "cell_type": "code",
   "execution_count": 7,
   "id": "f6ca457b-050c-4fd4-af89-9d0c55cc7d1d",
   "metadata": {},
   "outputs": [
    {
     "name": "stdout",
     "output_type": "stream",
     "text": [
      "Value with maximum probability (mode): 0.0\n"
     ]
    }
   ],
   "source": [
    "import numpy as np\n",
    "from empiricaldist import Pmf\n",
    "\n",
    "# Define hypotheses (e.g., probabilities of getting a hit)\n",
    "hypos = np.linspace(0, 1, 101)\n",
    "\n",
    "# Create a uniform prior distribution\n",
    "prior = Pmf(1, hypos)\n",
    "prior.normalize()\n",
    "\n",
    "# Find the value with the maximum probability (the mode)\n",
    "max_prob_value = prior.idxmax()\n",
    "\n",
    "print(\"Value with maximum probability (mode):\", max_prob_value)\n"
   ]
  },
  {
   "cell_type": "code",
   "execution_count": 9,
   "id": "c0c0d3c8-e9bc-49ef-aad2-7c6a801bd5e7",
   "metadata": {},
   "outputs": [
    {
     "name": "stdout",
     "output_type": "stream",
     "text": [
      "Value with maximum probability (mode) in posterior: 1.0\n"
     ]
    }
   ],
   "source": [
    "import numpy as np\n",
    "from empiricaldist import Pmf\n",
    "\n",
    "# Define hypotheses (e.g., probabilities of getting a hit)\n",
    "hypos = np.linspace(0, 1, 101)\n",
    "\n",
    "# Create a uniform prior distribution\n",
    "prior = Pmf(1, hypos)\n",
    "prior.normalize()\n",
    "\n",
    "# Assuming some likelihoods for demonstration (this can be based on your actual data)\n",
    "likelihoods = hypos ** 2  # Example likelihood function\n",
    "\n",
    "# Calculate the posterior by multiplying the prior by the likelihoods\n",
    "posterior = prior * likelihoods\n",
    "posterior.normalize()\n",
    "\n",
    "# Find the value with the maximum probability (the mode) in the posterior distribution\n",
    "max_prob_value = posterior.idxmax()\n",
    "\n",
    "print(\"Value with maximum probability (mode) in posterior:\", max_prob_value)\n"
   ]
  },
  {
   "cell_type": "code",
   "execution_count": 10,
   "id": "b1a4c60e-1682-4b77-8a55-fbeaf00fd55a",
   "metadata": {},
   "outputs": [],
   "source": [
    "# Solution\n",
    "\n",
    "# I'll use a uniform distribution again, although there might\n",
    "# be background information we could use to choose a more\n",
    "# specific prior.\n",
    "\n",
    "hypos = np.linspace(0, 1, 101)\n",
    "prior = Pmf(1, hypos)"
   ]
  },
  {
   "cell_type": "code",
   "execution_count": 11,
   "id": "39ca2a1f-99cd-45a6-a5e7-4e20f4bb951f",
   "metadata": {},
   "outputs": [],
   "source": [
    "# Solution\n",
    "\n",
    "# If the actual fraction of cheaters is `x`, the number of\n",
    "# YESes is (0.5 + x/2), and the number of NOs is (1-x)/2\n",
    "\n",
    "likelihood = {\n",
    "    'Y': 0.5 + hypos/2,\n",
    "    'N': (1-hypos)/2\n",
    "}"
   ]
  },
  {
   "cell_type": "code",
   "execution_count": 12,
   "id": "4081a8fc-b012-4f05-b9dc-5f528586aef8",
   "metadata": {},
   "outputs": [
    {
     "data": {
      "text/plain": [
       "3.6945139133967024e-21"
      ]
     },
     "execution_count": 12,
     "metadata": {},
     "output_type": "execute_result"
    }
   ],
   "source": [
    "# Solution\n",
    "\n",
    "dataset = 'Y' * 80 + 'N' * 20\n",
    "\n",
    "posterior = prior.copy()\n",
    "\n",
    "for data in dataset:\n",
    "    posterior *= likelihood[data]\n",
    "\n",
    "posterior.normalize()"
   ]
  },
  {
   "cell_type": "code",
   "execution_count": null,
   "id": "3a680d82-76e2-4dd1-b027-2e1f466a16d4",
   "metadata": {},
   "outputs": [],
   "source": [
    "# Solution\n",
    "\n",
    "posterior.plot(label='80 YES, 20 NO')\n",
    "decorate(xlabel='Proportion of cheaters',\n",
    "         ylabel='PMF')"
   ]
  },
  {
   "cell_type": "code",
   "execution_count": 2,
   "id": "89427e77-0e89-47ef-b701-3287ac766a82",
   "metadata": {},
   "outputs": [
    {
     "name": "stdout",
     "output_type": "stream",
     "text": [
      "Value with maximum probability (mode) in posterior: 1.0\n"
     ]
    }
   ],
   "source": [
    "import numpy as np\n",
    "from empiricaldist import Pmf\n",
    "\n",
    "# Define hypotheses (e.g., probabilities of getting a hit)\n",
    "hypos = np.linspace(0, 1, 101)\n",
    "\n",
    "# Create a uniform prior distribution over the hypotheses\n",
    "prior = Pmf(1, hypos)\n",
    "prior.normalize()\n",
    "\n",
    "# Assuming likelihoods for demonstration (this should reflect your actual problem)\n",
    "likelihoods = hypos ** 2  # Example likelihood function\n",
    "\n",
    "# Calculate the posterior by multiplying the prior by the likelihoods\n",
    "posterior = prior * likelihoods\n",
    "posterior.normalize()\n",
    "\n",
    "# Find the value with the maximum probability (the mode) in the posterior distribution\n",
    "max_prob_value = posterior.idxmax()\n",
    "\n",
    "print(\"Value with maximum probability (mode) in posterior:\", max_prob_value)\n"
   ]
  },
  {
   "cell_type": "code",
   "execution_count": 3,
   "id": "30c7a48f-f6f4-4637-857c-3edabffc7d13",
   "metadata": {},
   "outputs": [],
   "source": [
    "# Solution\n",
    "\n",
    "def update_unreliable(pmf, dataset, y):\n",
    "    \n",
    "    likelihood = {\n",
    "        'H': (1-y) * hypos + y * (1-hypos),\n",
    "        'T': y * hypos + (1-y) * (1-hypos)\n",
    "    }\n",
    "    for data in dataset:\n",
    "        pmf *= likelihood[data]\n",
    "\n",
    "    pmf.normalize()"
   ]
  },
  {
   "cell_type": "code",
   "execution_count": 4,
   "id": "d9ba3a1c-c0b6-4108-ab37-73bbb5a4226f",
   "metadata": {},
   "outputs": [],
   "source": [
    "# Solution\n",
    "\n",
    "hypos = np.linspace(0, 1, 101)\n",
    "prior = Pmf(1, hypos)\n",
    "dataset = 'H' * 140 + 'T' * 110\n",
    "\n",
    "posterior00 = prior.copy()\n",
    "update_unreliable(posterior00, dataset, 0.0)\n",
    "\n",
    "posterior02 = prior.copy()\n",
    "update_unreliable(posterior02, dataset, 0.2)\n",
    "\n",
    "posterior04 = prior.copy()\n",
    "update_unreliable(posterior04, dataset, 0.4)"
   ]
  },
  {
   "cell_type": "code",
   "execution_count": null,
   "id": "bce5599a-8efa-4de0-8d52-9eb3dca06e9f",
   "metadata": {},
   "outputs": [],
   "source": [
    "# Solution\n",
    "\n",
    "posterior00.plot(label='y = 0.0')\n",
    "posterior02.plot(label='y = 0.2')\n",
    "posterior04.plot(label='y = 0.4')\n",
    "decorate(xlabel='Proportion of heads',\n",
    "         ylabel='PMF')"
   ]
  },
  {
   "cell_type": "code",
   "execution_count": 2,
   "id": "e803c2c8-f768-4630-afaa-d1a1fa681bf1",
   "metadata": {},
   "outputs": [
    {
     "name": "stdout",
     "output_type": "stream",
     "text": [
      "Mode of posterior00: 1.0\n",
      "Mode of posterior02: 1.0\n",
      "Mode of posterior04: 1.0\n"
     ]
    }
   ],
   "source": [
    "import numpy as np\n",
    "from empiricaldist import Pmf\n",
    "\n",
    "# Define hypotheses (e.g., probabilities of getting a hit)\n",
    "hypos = np.linspace(0, 1, 101)\n",
    "\n",
    "# Create uniform prior distribution over the hypotheses\n",
    "prior = Pmf(1, hypos)\n",
    "prior.normalize()\n",
    "\n",
    "# Assuming different likelihoods for demonstration\n",
    "likelihoods00 = hypos ** 2  # Example likelihood for posterior00\n",
    "likelihoods02 = hypos ** 3  # Example likelihood for posterior02\n",
    "likelihoods04 = hypos ** 4  # Example likelihood for posterior04\n",
    "\n",
    "# Calculate different posterior distributions by multiplying prior by different likelihoods\n",
    "posterior00 = prior * likelihoods00\n",
    "posterior00.normalize()\n",
    "\n",
    "posterior02 = prior * likelihoods02\n",
    "posterior02.normalize()\n",
    "\n",
    "posterior04 = prior * likelihoods04\n",
    "posterior04.normalize()\n",
    "\n",
    "# Find the value with the maximum probability (the mode) for each posterior\n",
    "mode_posterior00 = posterior00.idxmax()\n",
    "mode_posterior02 = posterior02.idxmax()\n",
    "mode_posterior04 = posterior04.idxmax()\n",
    "\n",
    "print(f\"Mode of posterior00: {mode_posterior00}\")\n",
    "print(f\"Mode of posterior02: {mode_posterior02}\")\n",
    "print(f\"Mode of posterior04: {mode_posterior04}\")\n"
   ]
  },
  {
   "cell_type": "code",
   "execution_count": 3,
   "id": "da7fdb5a-0696-4f2d-b5ba-066c8753d7c3",
   "metadata": {},
   "outputs": [],
   "source": [
    "# Solution\n",
    "\n",
    "hypos = np.linspace(0.1, 0.4, 101)\n",
    "prior = Pmf(1, hypos)"
   ]
  },
  {
   "cell_type": "code",
   "execution_count": 4,
   "id": "49a856c8-a524-4125-801e-7f2c0139643f",
   "metadata": {},
   "outputs": [],
   "source": [
    "# Solution\n",
    "\n",
    "# Here's a specific version for n=2 shots per test\n",
    "\n",
    "x = hypos\n",
    "likes = [(1-x)**4, (2*x*(1-x))**2, x**4]\n",
    "likelihood = np.sum(likes, axis=0)"
   ]
  },
  {
   "cell_type": "code",
   "execution_count": 5,
   "id": "074321c8-bda0-435f-a51a-5237558b0355",
   "metadata": {},
   "outputs": [],
   "source": [
    "# Solution\n",
    "\n",
    "# Here's a more general version for any n shots per test\n",
    "\n",
    "from scipy.stats import binom\n",
    "\n",
    "n = 2\n",
    "likes2 = [binom.pmf(k, n, x)**2 for k in range(n+1)]\n",
    "likelihood2 = np.sum(likes2, axis=0)"
   ]
  },
  {
   "cell_type": "code",
   "execution_count": null,
   "id": "5d68b581-da23-4a7f-8e21-107f8d014373",
   "metadata": {},
   "outputs": [],
   "source": [
    "import numpy as np\n",
    "import matplotlib.pyplot as plt\n",
    "\n",
    "# Define your data\n",
    "x = np.linspace(0, 1, 100)\n",
    "likelihood = x ** 2\n",
    "likelihood2 = x ** 3\n",
    "\n",
    "# Plot the likelihoods\n",
    "plt.plot(x, likelihood, label='special case')\n",
    "plt.plot(x, likelihood2, label='general formula')\n",
    "\n",
    "# Use matplotlib functions to label the plot\n",
    "plt.xlabel('Probability of hitting the target')\n",
    "plt.ylabel('Likelihood')\n",
    "plt.title('Likelihood of getting the same result')\n",
    "plt.legend()\n",
    "\n",
    "# Show the plot\n",
    "plt.show()\n"
   ]
  },
  {
   "cell_type": "code",
   "execution_count": 2,
   "id": "ad2f2166-718b-4578-b220-0d7f6aed735b",
   "metadata": {},
   "outputs": [
    {
     "name": "stdout",
     "output_type": "stream",
     "text": [
      "0.00    0.000000\n",
      "0.01    0.000003\n",
      "0.02    0.000012\n",
      "0.03    0.000027\n",
      "0.04    0.000047\n",
      "          ...   \n",
      "0.96    0.027238\n",
      "0.97    0.027808\n",
      "0.98    0.028385\n",
      "0.99    0.028967\n",
      "1.00    0.029555\n",
      "Length: 101, dtype: float64\n",
      "Mode of the posterior distribution: 1.0\n"
     ]
    }
   ],
   "source": [
    "import numpy as np\n",
    "from empiricaldist import Pmf\n",
    "\n",
    "# Define hypotheses (e.g., probabilities of hitting a target)\n",
    "hypos = np.linspace(0, 1, 101)\n",
    "\n",
    "# Create a uniform prior distribution over the hypotheses\n",
    "prior = Pmf(1, hypos)  # Assign equal probabilities to all hypotheses\n",
    "prior.normalize()\n",
    "\n",
    "# Define the likelihood (this is an example, you can use any function based on your data)\n",
    "likelihood = hypos ** 2  # Example likelihood for demonstration\n",
    "\n",
    "# Calculate the posterior by multiplying the prior by the likelihood\n",
    "posterior = prior * likelihood\n",
    "posterior.normalize()  # Ensure the posterior sums to 1\n",
    "\n",
    "# Display the posterior or find specific statistics like mode\n",
    "print(posterior)\n",
    "\n",
    "# Find the mode (value with maximum probability)\n",
    "mode = posterior.idxmax()\n",
    "print(f\"Mode of the posterior distribution: {mode}\")\n"
   ]
  },
  {
   "cell_type": "code",
   "execution_count": null,
   "id": "7e1a6120-8f85-4d36-b1fe-2fd73a9a840a",
   "metadata": {},
   "outputs": [],
   "source": [
    "# Solution\n",
    "\n",
    "posterior.plot(label='Two tests, two shots, same outcome',\n",
    "               color='C4')\n",
    "decorate(xlabel='Probability of hitting the target',\n",
    "         ylabel='PMF',\n",
    "         title='Posterior distribution',\n",
    "         ylim=[0, 0.015])"
   ]
  },
  {
   "cell_type": "code",
   "execution_count": 2,
   "id": "c022f5fc-2e12-431d-9d17-c41926688d3c",
   "metadata": {},
   "outputs": [],
   "source": [
    "# Solution\n",
    "\n",
    "# Getting the same result in both tests is more likely for \n",
    "# extreme values of `x` and least likely when `x=0.5`.\n",
    "\n",
    "# In this example, the prior indicates that `x` is less than 0.5,\n",
    "# and the update gives more weight to extreme values.\n",
    "\n",
    "# So the dataset makes lower values of `x` more likely."
   ]
  },
  {
   "cell_type": "code",
   "execution_count": null,
   "id": "a5fcc2d1-c9e8-44f2-915c-947d607efb56",
   "metadata": {},
   "outputs": [],
   "source": []
  }
 ],
 "metadata": {
  "kernelspec": {
   "display_name": "Python 3 (ipykernel)",
   "language": "python",
   "name": "python3"
  },
  "language_info": {
   "codemirror_mode": {
    "name": "ipython",
    "version": 3
   },
   "file_extension": ".py",
   "mimetype": "text/x-python",
   "name": "python",
   "nbconvert_exporter": "python",
   "pygments_lexer": "ipython3",
   "version": "3.12.2"
  }
 },
 "nbformat": 4,
 "nbformat_minor": 5
}
