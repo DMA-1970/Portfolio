{
 "cells": [
  {
   "cell_type": "code",
   "execution_count": 5,
   "id": "8ba4ac81-577c-47fe-a6fc-58ec5f5ef91e",
   "metadata": {},
   "outputs": [],
   "source": [
    "import pandas as pd\n",
    "gss = pd.read_csv('gss_bayes.csv')\n"
   ]
  },
  {
   "cell_type": "code",
   "execution_count": 3,
   "id": "fd99c0ba-3e5c-487b-b4bb-74c144f4c03b",
   "metadata": {},
   "outputs": [
    {
     "name": "stdout",
     "output_type": "stream",
     "text": [
      "C:\\Users\\david\n"
     ]
    }
   ],
   "source": [
    "import os\n",
    "print(os.getcwd())\n",
    "\n"
   ]
  },
  {
   "cell_type": "code",
   "execution_count": 6,
   "id": "9ca5be88-1354-436c-b268-95038a6443f0",
   "metadata": {},
   "outputs": [
    {
     "data": {
      "text/html": [
       "<div>\n",
       "<style scoped>\n",
       "    .dataframe tbody tr th:only-of-type {\n",
       "        vertical-align: middle;\n",
       "    }\n",
       "\n",
       "    .dataframe tbody tr th {\n",
       "        vertical-align: top;\n",
       "    }\n",
       "\n",
       "    .dataframe thead th {\n",
       "        text-align: right;\n",
       "    }\n",
       "</style>\n",
       "<table border=\"1\" class=\"dataframe\">\n",
       "  <thead>\n",
       "    <tr style=\"text-align: right;\">\n",
       "      <th></th>\n",
       "      <th>caseid</th>\n",
       "      <th>year</th>\n",
       "      <th>age</th>\n",
       "      <th>sex</th>\n",
       "      <th>polviews</th>\n",
       "      <th>partyid</th>\n",
       "      <th>indus10</th>\n",
       "    </tr>\n",
       "  </thead>\n",
       "  <tbody>\n",
       "    <tr>\n",
       "      <th>0</th>\n",
       "      <td>1</td>\n",
       "      <td>1974</td>\n",
       "      <td>21.0</td>\n",
       "      <td>1</td>\n",
       "      <td>4.0</td>\n",
       "      <td>2.0</td>\n",
       "      <td>4970.0</td>\n",
       "    </tr>\n",
       "    <tr>\n",
       "      <th>1</th>\n",
       "      <td>2</td>\n",
       "      <td>1974</td>\n",
       "      <td>41.0</td>\n",
       "      <td>1</td>\n",
       "      <td>5.0</td>\n",
       "      <td>0.0</td>\n",
       "      <td>9160.0</td>\n",
       "    </tr>\n",
       "    <tr>\n",
       "      <th>2</th>\n",
       "      <td>5</td>\n",
       "      <td>1974</td>\n",
       "      <td>58.0</td>\n",
       "      <td>2</td>\n",
       "      <td>6.0</td>\n",
       "      <td>1.0</td>\n",
       "      <td>2670.0</td>\n",
       "    </tr>\n",
       "    <tr>\n",
       "      <th>3</th>\n",
       "      <td>6</td>\n",
       "      <td>1974</td>\n",
       "      <td>30.0</td>\n",
       "      <td>1</td>\n",
       "      <td>5.0</td>\n",
       "      <td>4.0</td>\n",
       "      <td>6870.0</td>\n",
       "    </tr>\n",
       "    <tr>\n",
       "      <th>4</th>\n",
       "      <td>7</td>\n",
       "      <td>1974</td>\n",
       "      <td>48.0</td>\n",
       "      <td>1</td>\n",
       "      <td>5.0</td>\n",
       "      <td>4.0</td>\n",
       "      <td>7860.0</td>\n",
       "    </tr>\n",
       "  </tbody>\n",
       "</table>\n",
       "</div>"
      ],
      "text/plain": [
       "   caseid  year   age  sex  polviews  partyid  indus10\n",
       "0       1  1974  21.0    1       4.0      2.0   4970.0\n",
       "1       2  1974  41.0    1       5.0      0.0   9160.0\n",
       "2       5  1974  58.0    2       6.0      1.0   2670.0\n",
       "3       6  1974  30.0    1       5.0      4.0   6870.0\n",
       "4       7  1974  48.0    1       5.0      4.0   7860.0"
      ]
     },
     "execution_count": 6,
     "metadata": {},
     "output_type": "execute_result"
    }
   ],
   "source": [
    "gss.head()\n"
   ]
  },
  {
   "cell_type": "code",
   "execution_count": 4,
   "id": "5c142dfe-ac53-469b-bb36-a56e97be1ca9",
   "metadata": {},
   "outputs": [
    {
     "name": "stdout",
     "output_type": "stream",
     "text": [
      "Collecting pyarrow\n",
      "  Downloading pyarrow-17.0.0-cp312-cp312-win_amd64.whl.metadata (3.4 kB)\n",
      "Requirement already satisfied: numpy>=1.16.6 in c:\\programdata\\python\\env_1\\lib\\site-packages (from pyarrow) (1.26.4)\n",
      "Downloading pyarrow-17.0.0-cp312-cp312-win_amd64.whl (25.1 MB)\n",
      "   ---------------------------------------- 0.0/25.1 MB ? eta -:--:--\n",
      "   ---------------------------------------- 0.0/25.1 MB ? eta -:--:--\n",
      "   ---------------------------------------- 0.0/25.1 MB ? eta -:--:--\n",
      "   ---------------------------------------- 0.0/25.1 MB ? eta -:--:--\n",
      "   ---------------------------------------- 0.0/25.1 MB 187.9 kB/s eta 0:02:14\n",
      "   ---------------------------------------- 0.0/25.1 MB 196.9 kB/s eta 0:02:08\n",
      "   ---------------------------------------- 0.1/25.1 MB 252.2 kB/s eta 0:01:40\n",
      "   ---------------------------------------- 0.1/25.1 MB 327.7 kB/s eta 0:01:17\n",
      "   ---------------------------------------- 0.2/25.1 MB 557.9 kB/s eta 0:00:45\n",
      "    --------------------------------------- 0.6/25.1 MB 1.7 MB/s eta 0:00:15\n",
      "   -- ------------------------------------- 1.8/25.1 MB 4.4 MB/s eta 0:00:06\n",
      "   ------ --------------------------------- 3.9/25.1 MB 8.6 MB/s eta 0:00:03\n",
      "   --------- ------------------------------ 5.8/25.1 MB 11.7 MB/s eta 0:00:02\n",
      "   ------------ --------------------------- 7.9/25.1 MB 14.4 MB/s eta 0:00:02\n",
      "   ---------------- ----------------------- 10.1/25.1 MB 17.0 MB/s eta 0:00:01\n",
      "   ------------------- -------------------- 12.2/25.1 MB 46.7 MB/s eta 0:00:01\n",
      "   ------------------------ --------------- 15.7/25.1 MB 50.4 MB/s eta 0:00:01\n",
      "   ----------------------------- ---------- 18.6/25.1 MB 59.5 MB/s eta 0:00:01\n",
      "   ----------------------------------- ---- 22.2/25.1 MB 65.6 MB/s eta 0:00:01\n",
      "   ---------------------------------------  25.1/25.1 MB 65.2 MB/s eta 0:00:01\n",
      "   ---------------------------------------- 25.1/25.1 MB 54.4 MB/s eta 0:00:00\n",
      "Installing collected packages: pyarrow\n",
      "Successfully installed pyarrow-17.0.0\n"
     ]
    }
   ],
   "source": [
    "!pip install pyarrow\n"
   ]
  },
  {
   "cell_type": "code",
   "execution_count": 7,
   "id": "bce3e23e-3ca6-4814-b5d2-9c3c4fb8933e",
   "metadata": {},
   "outputs": [],
   "source": [
    "banker = (gss['indus10'] == 6870)\n"
   ]
  },
  {
   "cell_type": "code",
   "execution_count": 8,
   "id": "72449cf1-36c5-4c31-a938-f78e991be42b",
   "metadata": {},
   "outputs": [
    {
     "data": {
      "text/plain": [
       "0    False\n",
       "1    False\n",
       "2    False\n",
       "3     True\n",
       "4    False\n",
       "Name: indus10, dtype: bool"
      ]
     },
     "execution_count": 8,
     "metadata": {},
     "output_type": "execute_result"
    }
   ],
   "source": [
    "banker.head()\n"
   ]
  },
  {
   "cell_type": "code",
   "execution_count": 9,
   "id": "bd05f8fc-65c7-42b3-8259-3f9b4aaba4ef",
   "metadata": {},
   "outputs": [
    {
     "name": "stdout",
     "output_type": "stream",
     "text": [
      "Number of bankers: 728\n"
     ]
    }
   ],
   "source": [
    "banker_count = banker.sum()\n",
    "print(f'Number of bankers: {banker_count}')\n"
   ]
  },
  {
   "cell_type": "code",
   "execution_count": 10,
   "id": "00e365b2-ddfd-4542-baf0-cdc26a77f622",
   "metadata": {},
   "outputs": [
    {
     "name": "stdout",
     "output_type": "stream",
     "text": [
      "Fraction of bankers: 0.014769730168391155\n"
     ]
    }
   ],
   "source": [
    "banker_fraction = banker.mean()\n",
    "print(f'Fraction of bankers: {banker_fraction}')\n"
   ]
  },
  {
   "cell_type": "code",
   "execution_count": 11,
   "id": "5ae3d623-70b9-4f6a-a946-ccd1d714c37f",
   "metadata": {},
   "outputs": [
    {
     "name": "stdout",
     "output_type": "stream",
     "text": [
      "Total respondents: 49290\n",
      "Number of bankers: 728\n",
      "Fraction of bankers (or probability of being a banker): 1.48%\n"
     ]
    }
   ],
   "source": [
    "print(f'Total respondents: {len(gss)}')\n",
    "print(f'Number of bankers: {banker_count}')\n",
    "print(f'Fraction of bankers (or probability of being a banker): {banker_fraction * 100:.2f}%')\n"
   ]
  },
  {
   "cell_type": "code",
   "execution_count": 12,
   "id": "e02facc7-3a1d-400f-9f39-26338889bd42",
   "metadata": {},
   "outputs": [],
   "source": [
    "def prob(A):\n",
    "    \"\"\"Computes the probability of a proposition, A.\"\"\"    \n",
    "    return A.mean()"
   ]
  },
  {
   "cell_type": "code",
   "execution_count": 13,
   "id": "83396331-14fe-4de2-9704-63bb6698c205",
   "metadata": {},
   "outputs": [
    {
     "data": {
      "text/plain": [
       "0.014769730168391155"
      ]
     },
     "execution_count": 13,
     "metadata": {},
     "output_type": "execute_result"
    }
   ],
   "source": [
    "prob(banker)\n"
   ]
  },
  {
   "cell_type": "code",
   "execution_count": 14,
   "id": "763020ea-4d2a-460d-a3d4-646884ae53c7",
   "metadata": {},
   "outputs": [],
   "source": [
    "female = (gss['sex'] == 2)\n"
   ]
  },
  {
   "cell_type": "code",
   "execution_count": 16,
   "id": "8d453fbc-9bff-4400-aa6b-ce4894491182",
   "metadata": {},
   "outputs": [
    {
     "data": {
      "text/plain": [
       "0.5378575776019476"
      ]
     },
     "execution_count": 16,
     "metadata": {},
     "output_type": "execute_result"
    }
   ],
   "source": [
    "prob(female)\n"
   ]
  },
  {
   "cell_type": "code",
   "execution_count": 17,
   "id": "fb877486-50c3-4430-b756-220b86571e01",
   "metadata": {},
   "outputs": [],
   "source": [
    "liberal = (gss['polviews'] <= 3)\n"
   ]
  },
  {
   "cell_type": "code",
   "execution_count": 18,
   "id": "25cf9e49-fbef-43f8-bbde-8c41355335bf",
   "metadata": {},
   "outputs": [
    {
     "data": {
      "text/plain": [
       "0.27374721038750255"
      ]
     },
     "execution_count": 18,
     "metadata": {},
     "output_type": "execute_result"
    }
   ],
   "source": [
    "prob(liberal)\n"
   ]
  },
  {
   "cell_type": "code",
   "execution_count": 19,
   "id": "77b86374-ad52-4750-90fe-1fe62d0dbbe7",
   "metadata": {},
   "outputs": [],
   "source": [
    "democrat = (gss['partyid'] <= 1)\n"
   ]
  },
  {
   "cell_type": "code",
   "execution_count": 20,
   "id": "0bbdee54-1dd1-4454-b07e-41d586562477",
   "metadata": {},
   "outputs": [
    {
     "data": {
      "text/plain": [
       "0.3662609048488537"
      ]
     },
     "execution_count": 20,
     "metadata": {},
     "output_type": "execute_result"
    }
   ],
   "source": [
    "prob(democrat)\n"
   ]
  },
  {
   "cell_type": "code",
   "execution_count": 21,
   "id": "b88c5a73-97e6-4431-be79-51422e4d6553",
   "metadata": {},
   "outputs": [
    {
     "data": {
      "text/plain": [
       "0.004686548995739501"
      ]
     },
     "execution_count": 21,
     "metadata": {},
     "output_type": "execute_result"
    }
   ],
   "source": [
    "prob(banker & democrat)\n"
   ]
  },
  {
   "cell_type": "code",
   "execution_count": 22,
   "id": "98fd96d2-2257-4808-b71a-f67de2fb6e7a",
   "metadata": {},
   "outputs": [
    {
     "data": {
      "text/plain": [
       "0.004686548995739501"
      ]
     },
     "execution_count": 22,
     "metadata": {},
     "output_type": "execute_result"
    }
   ],
   "source": [
    "prob(democrat & banker)\n"
   ]
  },
  {
   "cell_type": "code",
   "execution_count": 23,
   "id": "82a63cde-333a-457b-a08f-87c015664224",
   "metadata": {},
   "outputs": [],
   "source": [
    "def conditional(proposition, given):\n",
    "    \"\"\"Probability of A conditioned on given.\"\"\"\n",
    "    return prob(proposition[given])\n"
   ]
  },
  {
   "cell_type": "code",
   "execution_count": 24,
   "id": "00041a30-1856-4b87-9fe3-d26e0f09c1d1",
   "metadata": {},
   "outputs": [
    {
     "data": {
      "text/plain": [
       "0.5206403320240125"
      ]
     },
     "execution_count": 24,
     "metadata": {},
     "output_type": "execute_result"
    }
   ],
   "source": [
    "conditional(democrat, given=liberal)\n"
   ]
  },
  {
   "cell_type": "code",
   "execution_count": 25,
   "id": "2a28c58d-645b-48b1-8e1e-d07942358a8f",
   "metadata": {},
   "outputs": [
    {
     "data": {
      "text/plain": [
       "0.3891320002215698"
      ]
     },
     "execution_count": 25,
     "metadata": {},
     "output_type": "execute_result"
    }
   ],
   "source": [
    "conditional(liberal, given=democrat)\n"
   ]
  },
  {
   "cell_type": "code",
   "execution_count": 26,
   "id": "53c976eb-f751-4026-9657-2d7f2b8c1898",
   "metadata": {},
   "outputs": [
    {
     "data": {
      "text/plain": [
       "0.7706043956043956"
      ]
     },
     "execution_count": 26,
     "metadata": {},
     "output_type": "execute_result"
    }
   ],
   "source": [
    "conditional(female, given=banker)\n"
   ]
  },
  {
   "cell_type": "code",
   "execution_count": 27,
   "id": "f7684d70-878a-479a-8a36-061de354d5b2",
   "metadata": {},
   "outputs": [
    {
     "data": {
      "text/plain": [
       "0.02116102749801969"
      ]
     },
     "execution_count": 27,
     "metadata": {},
     "output_type": "execute_result"
    }
   ],
   "source": [
    "conditional(banker, given=female)\n"
   ]
  },
  {
   "cell_type": "code",
   "execution_count": 28,
   "id": "380acd1e-71d5-4ed9-9b9d-fc70f83cf154",
   "metadata": {},
   "outputs": [
    {
     "data": {
      "text/plain": [
       "0.576085409252669"
      ]
     },
     "execution_count": 28,
     "metadata": {},
     "output_type": "execute_result"
    }
   ],
   "source": [
    "conditional(female, given=liberal & democrat)\n"
   ]
  },
  {
   "cell_type": "code",
   "execution_count": 29,
   "id": "0189a758-eeb3-46e6-a7fe-defa189d695d",
   "metadata": {},
   "outputs": [
    {
     "data": {
      "text/plain": [
       "0.17307692307692307"
      ]
     },
     "execution_count": 29,
     "metadata": {},
     "output_type": "execute_result"
    }
   ],
   "source": [
    "conditional(liberal & female, given=banker)\n"
   ]
  },
  {
   "cell_type": "code",
   "execution_count": 30,
   "id": "57e28f0a-31c3-42e8-95a2-96073f166817",
   "metadata": {},
   "outputs": [
    {
     "data": {
      "text/plain": [
       "0.7706043956043956"
      ]
     },
     "execution_count": 30,
     "metadata": {},
     "output_type": "execute_result"
    }
   ],
   "source": [
    "female[banker].mean()"
   ]
  },
  {
   "cell_type": "code",
   "execution_count": 31,
   "id": "4cbe1bcd-a113-427f-878a-84b33a53d31f",
   "metadata": {},
   "outputs": [
    {
     "data": {
      "text/plain": [
       "0.7706043956043956"
      ]
     },
     "execution_count": 31,
     "metadata": {},
     "output_type": "execute_result"
    }
   ],
   "source": [
    "conditional(female, given=banker)"
   ]
  },
  {
   "cell_type": "code",
   "execution_count": 32,
   "id": "59922a4f-0f99-4e7b-927a-4fcea3f8aac6",
   "metadata": {},
   "outputs": [
    {
     "data": {
      "text/plain": [
       "0.7706043956043956"
      ]
     },
     "execution_count": 32,
     "metadata": {},
     "output_type": "execute_result"
    }
   ],
   "source": [
    "prob(female & banker) / prob(banker)"
   ]
  },
  {
   "cell_type": "code",
   "execution_count": 33,
   "id": "e7f485ac-d996-4c06-afbd-85fbb64433b0",
   "metadata": {},
   "outputs": [
    {
     "data": {
      "text/plain": [
       "0.1425238385067965"
      ]
     },
     "execution_count": 33,
     "metadata": {},
     "output_type": "execute_result"
    }
   ],
   "source": [
    "prob(liberal & democrat)"
   ]
  },
  {
   "cell_type": "code",
   "execution_count": 34,
   "id": "94d82da9-cc37-4bef-ae0e-127ef591b7c9",
   "metadata": {},
   "outputs": [
    {
     "data": {
      "text/plain": [
       "0.1425238385067965"
      ]
     },
     "execution_count": 34,
     "metadata": {},
     "output_type": "execute_result"
    }
   ],
   "source": [
    "prob(democrat) * conditional(liberal, democrat)"
   ]
  },
  {
   "cell_type": "code",
   "execution_count": 35,
   "id": "38d39cc2-391f-4aae-8444-6f6b40fc2d53",
   "metadata": {},
   "outputs": [
    {
     "data": {
      "text/plain": [
       "0.2239010989010989"
      ]
     },
     "execution_count": 35,
     "metadata": {},
     "output_type": "execute_result"
    }
   ],
   "source": [
    "conditional(liberal, given=banker)"
   ]
  },
  {
   "cell_type": "code",
   "execution_count": 36,
   "id": "722a59e8-fb16-44b0-9033-3dfa09c2925a",
   "metadata": {},
   "outputs": [
    {
     "data": {
      "text/plain": [
       "0.2239010989010989"
      ]
     },
     "execution_count": 36,
     "metadata": {},
     "output_type": "execute_result"
    }
   ],
   "source": [
    "prob(liberal) * conditional(banker, liberal) / prob(banker)"
   ]
  },
  {
   "cell_type": "code",
   "execution_count": 37,
   "id": "5adcbf05-5a60-4eb1-9a37-ff74d1b5b9a7",
   "metadata": {},
   "outputs": [],
   "source": [
    "male = (gss['sex'] == 1)"
   ]
  },
  {
   "cell_type": "code",
   "execution_count": 38,
   "id": "6e0ef92d-fe09-4f43-9549-8879b98667c5",
   "metadata": {},
   "outputs": [
    {
     "data": {
      "text/plain": [
       "0.014769730168391155"
      ]
     },
     "execution_count": 38,
     "metadata": {},
     "output_type": "execute_result"
    }
   ],
   "source": [
    "prob(male & banker) + prob(female & banker)"
   ]
  },
  {
   "cell_type": "code",
   "execution_count": 39,
   "id": "1f33b542-bdad-4de0-bfac-2ba1c502234f",
   "metadata": {},
   "outputs": [
    {
     "data": {
      "text/plain": [
       "0.014769730168391153"
      ]
     },
     "execution_count": 39,
     "metadata": {},
     "output_type": "execute_result"
    }
   ],
   "source": [
    "(prob(male) * conditional(banker, given=male) +\n",
    "prob(female) * conditional(banker, given=female))"
   ]
  },
  {
   "cell_type": "code",
   "execution_count": 40,
   "id": "3926f0c2-fb9f-4c67-a485-6ffb0cdcee44",
   "metadata": {},
   "outputs": [
    {
     "data": {
      "text/plain": [
       "polviews\n",
       "1.0     1442\n",
       "2.0     5808\n",
       "3.0     6243\n",
       "4.0    18943\n",
       "5.0     7940\n",
       "6.0     7319\n",
       "7.0     1595\n",
       "Name: count, dtype: int64"
      ]
     },
     "execution_count": 40,
     "metadata": {},
     "output_type": "execute_result"
    }
   ],
   "source": [
    "B = gss['polviews']\n",
    "B.value_counts().sort_index()"
   ]
  },
  {
   "cell_type": "code",
   "execution_count": 41,
   "id": "de39853b-4f29-4c2b-84b7-d667b723567c",
   "metadata": {},
   "outputs": [
    {
     "data": {
      "text/plain": [
       "0.005822682085615744"
      ]
     },
     "execution_count": 41,
     "metadata": {},
     "output_type": "execute_result"
    }
   ],
   "source": [
    "i = 4\n",
    "prob(B==i) * conditional(banker, B==i)"
   ]
  },
  {
   "cell_type": "code",
   "execution_count": 42,
   "id": "b4cb02a1-1033-45cb-90e1-44675f6931df",
   "metadata": {},
   "outputs": [
    {
     "data": {
      "text/plain": [
       "0.014769730168391157"
      ]
     },
     "execution_count": 42,
     "metadata": {},
     "output_type": "execute_result"
    }
   ],
   "source": [
    "sum(prob(B==i) * conditional(banker, B==i)\n",
    "    for i in range(1, 8))"
   ]
  },
  {
   "cell_type": "code",
   "execution_count": 43,
   "id": "813404ce-f75a-4439-b3f9-1cbd15a1a22e",
   "metadata": {},
   "outputs": [
    {
     "data": {
      "text/plain": [
       "0.3891320002215698"
      ]
     },
     "execution_count": 43,
     "metadata": {},
     "output_type": "execute_result"
    }
   ],
   "source": [
    "# Probability that a respondent is liberal given that they are a Democrat\n",
    "conditional(liberal, given=democrat)\n"
   ]
  },
  {
   "cell_type": "code",
   "execution_count": 44,
   "id": "b5064227-68d5-4804-bb5b-ce843d292ce4",
   "metadata": {},
   "outputs": [
    {
     "data": {
      "text/plain": [
       "0.5206403320240125"
      ]
     },
     "execution_count": 44,
     "metadata": {},
     "output_type": "execute_result"
    }
   ],
   "source": [
    "# Probability that a respondent is a Democrat given that they are liberal\n",
    "conditional(democrat, given=liberal)\n"
   ]
  },
  {
   "cell_type": "code",
   "execution_count": 45,
   "id": "e482fe7f-8856-43a0-8c18-18544176bd5d",
   "metadata": {},
   "outputs": [
    {
     "data": {
      "text/plain": [
       "0.02116102749801969"
      ]
     },
     "execution_count": 45,
     "metadata": {},
     "output_type": "execute_result"
    }
   ],
   "source": [
    "# Probability that Linda is a banker, given that she is female\n",
    "conditional(banker, given=female)\n"
   ]
  },
  {
   "cell_type": "code",
   "execution_count": 46,
   "id": "81ab61e1-82c5-4c66-8869-807b6c9ebd56",
   "metadata": {},
   "outputs": [
    {
     "data": {
      "text/plain": [
       "0.0023009316887329786"
      ]
     },
     "execution_count": 46,
     "metadata": {},
     "output_type": "execute_result"
    }
   ],
   "source": [
    "# Create a Boolean series for liberal Democrats\n",
    "liberal_democrat = liberal & democrat\n",
    "\n",
    "# Probability that Linda is a banker and a liberal Democrat, given that she is female\n",
    "conditional(banker & liberal_democrat, given=female)\n"
   ]
  },
  {
   "cell_type": "code",
   "execution_count": 47,
   "id": "8d90431c-6145-4aee-b016-b63ba2635538",
   "metadata": {},
   "outputs": [
    {
     "data": {
      "text/plain": [
       "0.06579427875836884"
      ]
     },
     "execution_count": 47,
     "metadata": {},
     "output_type": "execute_result"
    }
   ],
   "source": [
    "# Define young as respondents under 30\n",
    "young = (gss['age'] < 30)\n",
    "\n",
    "# Probability that a respondent is young\n",
    "prob(young)\n",
    "\n",
    "# Probability that a randomly chosen respondent is a young liberal\n",
    "prob(young & liberal)\n"
   ]
  },
  {
   "cell_type": "code",
   "execution_count": 48,
   "id": "020ef9cb-2d7d-4636-b961-217b4f3d2487",
   "metadata": {},
   "outputs": [
    {
     "data": {
      "text/plain": [
       "0.338517745302714"
      ]
     },
     "execution_count": 48,
     "metadata": {},
     "output_type": "execute_result"
    }
   ],
   "source": [
    "# Probability that a young person is liberal\n",
    "conditional(liberal, given=young)\n"
   ]
  },
  {
   "cell_type": "code",
   "execution_count": 49,
   "id": "0cff5d2b-b307-4636-aabd-2cf7ef581e81",
   "metadata": {},
   "outputs": [
    {
     "data": {
      "text/plain": [
       "0.06701156421180766"
      ]
     },
     "execution_count": 49,
     "metadata": {},
     "output_type": "execute_result"
    }
   ],
   "source": [
    "# Define old as respondents 65 or older\n",
    "old = (gss['age'] >= 65)\n",
    "\n",
    "# Probability that a respondent is old\n",
    "prob(old)\n",
    "\n",
    "# Define conservative as respondents with political views Conservative, Slightly Conservative, or Extremely Conservative\n",
    "conservative = (gss['polviews'] >= 5)\n",
    "\n",
    "# Probability that a randomly chosen respondent is an old conservative\n",
    "prob(old & conservative)\n"
   ]
  },
  {
   "cell_type": "code",
   "execution_count": 50,
   "id": "1ef14798-90f6-42c2-94fe-8d57dce7ab75",
   "metadata": {},
   "outputs": [
    {
     "data": {
      "text/plain": [
       "0.19597721609113564"
      ]
     },
     "execution_count": 50,
     "metadata": {},
     "output_type": "execute_result"
    }
   ],
   "source": [
    "# Probability that a conservative respondent is old\n",
    "conditional(old, given=conservative)\n"
   ]
  },
  {
   "cell_type": "code",
   "execution_count": null,
   "id": "88e1fe1f-b087-40e1-adcd-4a05e8d0b086",
   "metadata": {},
   "outputs": [],
   "source": []
  }
 ],
 "metadata": {
  "kernelspec": {
   "display_name": "Python 3 (ipykernel)",
   "language": "python",
   "name": "python3"
  },
  "language_info": {
   "codemirror_mode": {
    "name": "ipython",
    "version": 3
   },
   "file_extension": ".py",
   "mimetype": "text/x-python",
   "name": "python",
   "nbconvert_exporter": "python",
   "pygments_lexer": "ipython3",
   "version": "3.12.2"
  }
 },
 "nbformat": 4,
 "nbformat_minor": 5
}
